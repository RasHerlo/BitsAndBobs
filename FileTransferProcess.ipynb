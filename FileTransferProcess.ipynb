{
 "cells": [
  {
   "cell_type": "code",
   "execution_count": 22,
   "outputs": [],
   "source": [
    "import os\n",
    "\n",
    "from FastFileTransfer import copy_files_with_substring"
   ],
   "metadata": {
    "collapsed": false
   }
  },
  {
   "cell_type": "code",
   "execution_count": 23,
   "outputs": [],
   "source": [
    "source_folder = \"Q:\\\\NEW_SCZ_BEH\\\\LOCO\\\\EMR032\\\\x202n_y356_z1410y40_lp174_av1_2pl-001\"\n",
    "destination_folder = \"C:\\\\RH_DAO_SCZ\\\\NewData\\\\Loco2023dec\\\\EMR032\"\n",
    "substring = \"Ch2\"  # Replace with the desired substring"
   ],
   "metadata": {
    "collapsed": false
   }
  },
  {
   "cell_type": "code",
   "execution_count": 24,
   "outputs": [
    {
     "name": "stdout",
     "output_type": "stream",
     "text": [
      "Initiating copy_files_with_substring...\n"
     ]
    },
    {
     "ename": "OSError",
     "evalue": "[Errno 22] Invalid argument: 'Q:\\\\NEW_SCZ_BEH\\\\LOCO\\\\EMR032\\\\x202n_y356_z1410y40_lp174_av1_2pl-001\\\\x202n_y356_z1410y40_lp174_av1_2pl-001_Cycle00105_Ch2_000001.ome.tif'",
     "output_type": "error",
     "traceback": [
      "\u001B[1;31m---------------------------------------------------------------------------\u001B[0m",
      "\u001B[1;31mOSError\u001B[0m                                   Traceback (most recent call last)",
      "Cell \u001B[1;32mIn[24], line 1\u001B[0m\n\u001B[1;32m----> 1\u001B[0m \u001B[43mcopy_files_with_substring\u001B[49m\u001B[43m(\u001B[49m\u001B[43msource_folder\u001B[49m\u001B[43m,\u001B[49m\u001B[43m \u001B[49m\u001B[43mdestination_folder\u001B[49m\u001B[43m,\u001B[49m\u001B[43m \u001B[49m\u001B[43msubstring\u001B[49m\u001B[43m)\u001B[49m\n",
      "File \u001B[1;32m~\\PycharmProjects\\BitsAndBobs\\FastFileTransfer.py:30\u001B[0m, in \u001B[0;36mcopy_files_with_substring\u001B[1;34m(source_folder, destination_folder, substring)\u001B[0m\n\u001B[0;32m     28\u001B[0m source_file \u001B[38;5;241m=\u001B[39m os\u001B[38;5;241m.\u001B[39mpath\u001B[38;5;241m.\u001B[39mjoin(source_folder, filename)\n\u001B[0;32m     29\u001B[0m destination_file \u001B[38;5;241m=\u001B[39m os\u001B[38;5;241m.\u001B[39mpath\u001B[38;5;241m.\u001B[39mjoin(destination_folder, filename)\n\u001B[1;32m---> 30\u001B[0m \u001B[43mshutil\u001B[49m\u001B[38;5;241;43m.\u001B[39;49m\u001B[43mcopy2\u001B[49m\u001B[43m(\u001B[49m\u001B[43msource_file\u001B[49m\u001B[43m,\u001B[49m\u001B[43m \u001B[49m\u001B[43mdestination_file\u001B[49m\u001B[43m)\u001B[49m\n",
      "File \u001B[1;32mC:\\ProgramData\\Anaconda3\\envs\\BitsAndBobs\\lib\\shutil.py:444\u001B[0m, in \u001B[0;36mcopy2\u001B[1;34m(src, dst, follow_symlinks)\u001B[0m\n\u001B[0;32m    442\u001B[0m \u001B[38;5;28;01mif\u001B[39;00m os\u001B[38;5;241m.\u001B[39mpath\u001B[38;5;241m.\u001B[39misdir(dst):\n\u001B[0;32m    443\u001B[0m     dst \u001B[38;5;241m=\u001B[39m os\u001B[38;5;241m.\u001B[39mpath\u001B[38;5;241m.\u001B[39mjoin(dst, os\u001B[38;5;241m.\u001B[39mpath\u001B[38;5;241m.\u001B[39mbasename(src))\n\u001B[1;32m--> 444\u001B[0m \u001B[43mcopyfile\u001B[49m\u001B[43m(\u001B[49m\u001B[43msrc\u001B[49m\u001B[43m,\u001B[49m\u001B[43m \u001B[49m\u001B[43mdst\u001B[49m\u001B[43m,\u001B[49m\u001B[43m \u001B[49m\u001B[43mfollow_symlinks\u001B[49m\u001B[38;5;241;43m=\u001B[39;49m\u001B[43mfollow_symlinks\u001B[49m\u001B[43m)\u001B[49m\n\u001B[0;32m    445\u001B[0m copystat(src, dst, follow_symlinks\u001B[38;5;241m=\u001B[39mfollow_symlinks)\n\u001B[0;32m    446\u001B[0m \u001B[38;5;28;01mreturn\u001B[39;00m dst\n",
      "File \u001B[1;32mC:\\ProgramData\\Anaconda3\\envs\\BitsAndBobs\\lib\\shutil.py:264\u001B[0m, in \u001B[0;36mcopyfile\u001B[1;34m(src, dst, follow_symlinks)\u001B[0m\n\u001B[0;32m    262\u001B[0m     os\u001B[38;5;241m.\u001B[39msymlink(os\u001B[38;5;241m.\u001B[39mreadlink(src), dst)\n\u001B[0;32m    263\u001B[0m \u001B[38;5;28;01melse\u001B[39;00m:\n\u001B[1;32m--> 264\u001B[0m     \u001B[38;5;28;01mwith\u001B[39;00m \u001B[38;5;28;43mopen\u001B[39;49m\u001B[43m(\u001B[49m\u001B[43msrc\u001B[49m\u001B[43m,\u001B[49m\u001B[43m \u001B[49m\u001B[38;5;124;43m'\u001B[39;49m\u001B[38;5;124;43mrb\u001B[39;49m\u001B[38;5;124;43m'\u001B[39;49m\u001B[43m)\u001B[49m \u001B[38;5;28;01mas\u001B[39;00m fsrc:\n\u001B[0;32m    265\u001B[0m         \u001B[38;5;28;01mtry\u001B[39;00m:\n\u001B[0;32m    266\u001B[0m             \u001B[38;5;28;01mwith\u001B[39;00m \u001B[38;5;28mopen\u001B[39m(dst, \u001B[38;5;124m'\u001B[39m\u001B[38;5;124mwb\u001B[39m\u001B[38;5;124m'\u001B[39m) \u001B[38;5;28;01mas\u001B[39;00m fdst:\n\u001B[0;32m    267\u001B[0m                 \u001B[38;5;66;03m# macOS\u001B[39;00m\n",
      "\u001B[1;31mOSError\u001B[0m: [Errno 22] Invalid argument: 'Q:\\\\NEW_SCZ_BEH\\\\LOCO\\\\EMR032\\\\x202n_y356_z1410y40_lp174_av1_2pl-001\\\\x202n_y356_z1410y40_lp174_av1_2pl-001_Cycle00105_Ch2_000001.ome.tif'"
     ]
    }
   ],
   "source": [
    "copy_files_with_substring(source_folder, destination_folder, substring)"
   ],
   "metadata": {
    "collapsed": false
   }
  },
  {
   "cell_type": "code",
   "execution_count": null,
   "outputs": [],
   "source": [
    "# Loco EMR028\n",
    "from FastFileTransfer import copy_files_with_substring\n",
    "source_folder = \"Q:\\\\NEW_SCZ_BEH\\\\LOCO\\\\EMR028\\\\x505_y250n_z1430y60_lp169_av1_2pl-002\"\n",
    "destination_folder = \"C:\\\\RH_DAO_SCZ\\\\NewData\\\\Loco2023dec\\\\EMR028\"\n",
    "substring = \"Ch2\"  # Replace with the desired substring\n",
    "copy_files_with_substring(source_folder, destination_folder, substring)"
   ],
   "metadata": {
    "collapsed": false
   }
  },
  {
   "cell_type": "code",
   "execution_count": null,
   "outputs": [],
   "source": [
    "# Loco EMR029\n",
    "from FastFileTransfer import copy_files_with_substring\n",
    "source_folder = \"Q:\\\\NEW_SCZ_BEH\\\\LOCO\\\\EMR029\\\\x328_y544n_z1430y60_lp169_av1_2pl-001\"\n",
    "destination_folder = \"C:\\\\RH_DAO_SCZ\\\\NewData\\\\Loco2023dec\\\\EMR029\"\n",
    "substring = \"Ch2\"  # Replace with the desired substring\n",
    "copy_files_with_substring(source_folder, destination_folder, substring)"
   ],
   "metadata": {
    "collapsed": false
   }
  },
  {
   "cell_type": "code",
   "execution_count": null,
   "outputs": [],
   "source": [
    "# Burrow EMR028\n",
    "from FastFileTransfer import copy_files_with_substring\n",
    "source_folder = \"Q:\\\\NEW_SCZ_BEH\\\\EMR028\\\\x241n_y426n_z1447t77_lp172_avr1_2pl-001\"\n",
    "destination_folder = \"C:\\\\RH_DAO_SCZ\\\\NewData\\\\Burrow2023dec\\\\EMR028\"\n",
    "substring = \"Ch2\"  # Replace with the desired substring\n",
    "copy_files_with_substring(source_folder, destination_folder, substring)"
   ],
   "metadata": {
    "collapsed": false
   }
  },
  {
   "cell_type": "code",
   "execution_count": null,
   "outputs": [],
   "source": [
    "# Burrow EMR029\n",
    "from FastFileTransfer import copy_files_with_substring\n",
    "source_folder = \"Q:\\\\NEW_SCZ_BEH\\\\EMR029\\\\FOV1_x544n_y328n_z1470_lp169_avr1_2pl-002\"\n",
    "destination_folder = \"C:\\\\RH_DAO_SCZ\\\\NewData\\\\Burrow2023dec\\\\EMR029\"\n",
    "substring = \"Ch2\"  # Replace with the desired substring\n",
    "copy_files_with_substring(source_folder, destination_folder, substring)"
   ],
   "metadata": {
    "collapsed": false
   }
  },
  {
   "cell_type": "code",
   "execution_count": null,
   "outputs": [],
   "source": [
    "# Burrow EMR032\n",
    "from FastFileTransfer import copy_files_with_substring\n",
    "source_folder = \"Q:\\\\NEW_SCZ_BEH\\\\EMR032\\\\x412_y317_z1381t1410_lp164_avr1_2pl-001\"\n",
    "destination_folder = \"C:\\\\RH_DAO_SCZ\\\\NewData\\\\Burrow2023dec\\\\EMR032\"\n",
    "substring = \"Ch2\"  # Replace with the desired substring\n",
    "copy_files_with_substring(source_folder, destination_folder, substring)"
   ],
   "metadata": {
    "collapsed": false
   }
  }
 ],
 "metadata": {
  "kernelspec": {
   "display_name": "Python 3",
   "language": "python",
   "name": "python3"
  },
  "language_info": {
   "codemirror_mode": {
    "name": "ipython",
    "version": 2
   },
   "file_extension": ".py",
   "mimetype": "text/x-python",
   "name": "python",
   "nbconvert_exporter": "python",
   "pygments_lexer": "ipython2",
   "version": "2.7.6"
  }
 },
 "nbformat": 4,
 "nbformat_minor": 0
}
