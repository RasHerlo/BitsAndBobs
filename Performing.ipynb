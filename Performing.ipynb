{
 "cells": [
  {
   "cell_type": "code",
   "execution_count": 16,
   "metadata": {
    "collapsed": true
   },
   "outputs": [],
   "source": [
    "from FastFileTransfer import copy_folder_with_substring\n"
   ]
  },
  {
   "cell_type": "code",
   "execution_count": 12,
   "outputs": [],
   "source": [
    "source_folder = \"Q:\\\\NEW_SCZ_BEH\\\\LOCO\\\\EMR032_test\"\n",
    "destination_folder = \"C:\\\\RH_DAO_SCZ\\\\NewData\\\\Loco2023dec\"\n",
    "substring = \"Ch2\"  # Replace with the desired substring"
   ],
   "metadata": {
    "collapsed": false
   }
  },
  {
   "cell_type": "code",
   "execution_count": 13,
   "outputs": [],
   "source": [
    "copy_folder_with_substring(source_folder, destination_folder, substring)"
   ],
   "metadata": {
    "collapsed": false
   }
  },
  {
   "cell_type": "code",
   "execution_count": 15,
   "outputs": [
    {
     "ename": "ImportError",
     "evalue": "cannot import name 'print_this' from 'scratch_1' (C:\\Users\\RAS\\PycharmProjects\\BitsAndBobs\\scratch_1.py)",
     "output_type": "error",
     "traceback": [
      "\u001B[1;31m---------------------------------------------------------------------------\u001B[0m",
      "\u001B[1;31mImportError\u001B[0m                               Traceback (most recent call last)",
      "Cell \u001B[1;32mIn[15], line 1\u001B[0m\n\u001B[1;32m----> 1\u001B[0m \u001B[38;5;28;01mfrom\u001B[39;00m \u001B[38;5;21;01mscratch_1\u001B[39;00m \u001B[38;5;28;01mimport\u001B[39;00m print_this\n",
      "\u001B[1;31mImportError\u001B[0m: cannot import name 'print_this' from 'scratch_1' (C:\\Users\\RAS\\PycharmProjects\\BitsAndBobs\\scratch_1.py)"
     ]
    }
   ],
   "source": [
    "from scratch_1 import print_this"
   ],
   "metadata": {
    "collapsed": false
   }
  },
  {
   "cell_type": "code",
   "execution_count": null,
   "outputs": [],
   "source": [],
   "metadata": {
    "collapsed": false,
    "pycharm": {
     "is_executing": true
    }
   }
  },
  {
   "cell_type": "code",
   "execution_count": null,
   "outputs": [],
   "source": [],
   "metadata": {
    "collapsed": false
   }
  }
 ],
 "metadata": {
  "kernelspec": {
   "display_name": "Python 3",
   "language": "python",
   "name": "python3"
  },
  "language_info": {
   "codemirror_mode": {
    "name": "ipython",
    "version": 2
   },
   "file_extension": ".py",
   "mimetype": "text/x-python",
   "name": "python",
   "nbconvert_exporter": "python",
   "pygments_lexer": "ipython2",
   "version": "2.7.6"
  }
 },
 "nbformat": 4,
 "nbformat_minor": 0
}
