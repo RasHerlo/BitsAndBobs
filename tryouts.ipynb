{
 "cells": [
  {
   "cell_type": "code",
   "execution_count": 2,
   "metadata": {
    "collapsed": true
   },
   "outputs": [
    {
     "name": "stdout",
     "output_type": "stream",
     "text": [
      "Selected input directory: D:/PRAIRIE1 DATA/230712 bPAC WTs/EM0420_TIGRE/reg1_x637_y660n_z1466_lp146_baseline_10min_avr4-001\n",
      "Substring entered: Ch2\n"
     ]
    }
   ],
   "source": [
    "import tkinter as tk\n",
    "from tkinter import filedialog\n",
    "from tkinter import simpledialog\n",
    "\n",
    "root = tk.Tk()\n",
    "root.withdraw()\n",
    "\n",
    "input_path = filedialog.askdirectory(title=\"Select a Directory with imaging files\")\n",
    "input_substr = simpledialog.askstring(\"Input Dialog\", \"Enter your substring:\")\n",
    "lowerbound = simpledialog.askinteger(\"Input Dialog\", \"Enter lower-bound index:\")\n",
    "upperbound = simpledialog.askinteger(\"Input Dialog\", \"Enter upper-bound index:\")\n",
    "target_dir = filedialog.askdirectory(title=\"Select target Directory for folder with imaging files\")\n",
    "target_fld = simpledialog.askstring(\"Input Dialog\", \"Enter name of the folder for your images:\")\n",
    "\n",
    "if input_path:\n",
    "    print(\"Selected input directory:\", input_path)\n",
    "if input_substr:\n",
    "    print(\"Substring entered:\", input_substr)\n",
    "\n",
    "root.destroy()  # Close the hidden window"
   ]
  },
  {
   "cell_type": "code",
   "execution_count": 20,
   "outputs": [],
   "source": [
    "import os\n",
    "\n",
    "file_paths = [\n",
    "    filename\n",
    "    for filename in os.listdir(input_path)\n",
    "    if input_substr in filename\n",
    "]"
   ],
   "metadata": {
    "collapsed": false
   }
  },
  {
   "cell_type": "code",
   "execution_count": 21,
   "outputs": [],
   "source": [
    "file_paths = file_paths[lowerbound-1:upperbound]"
   ],
   "metadata": {
    "collapsed": false
   }
  },
  {
   "cell_type": "code",
   "execution_count": 22,
   "outputs": [],
   "source": [
    "msg_process = f\"\"\"The first file transferred will be: {file_paths[0]}, and the last will be {file_paths[-1]}.\n",
    "              Do you want to proceed?\"\"\"\n",
    "\n",
    "\n",
    "# answer = tk.messagebox.askyesno(\"Confirmation\", \"Are you sure you want to proceed?\")"
   ],
   "metadata": {
    "collapsed": false
   }
  },
  {
   "cell_type": "code",
   "execution_count": 23,
   "outputs": [
    {
     "name": "stdout",
     "output_type": "stream",
     "text": [
      "The first file transferred will be: reg1_x637_y660n_z1466_lp146_baseline_10min_avr4-001_Cycle00001_Ch2_000001.ome.tif, and the last will be reg1_x637_y660n_z1466_lp146_baseline_10min_avr4-001_Cycle00001_Ch2_004237.ome.tif.\n",
      "              Do you want to proceed?\n"
     ]
    }
   ],
   "source": [
    "print(msg_process)"
   ],
   "metadata": {
    "collapsed": false
   }
  },
  {
   "cell_type": "code",
   "execution_count": 7,
   "outputs": [],
   "source": [
    "import tkinter as tk\n",
    "from tkinter import messagebox\n",
    "\n",
    "root = tk.Tk()\n",
    "root.withdraw()\n",
    "\n",
    "answer = messagebox.askyesno(\"Confirmation\", msg_process)\n",
    "\n",
    "root.destroy()"
   ],
   "metadata": {
    "collapsed": false
   }
  },
  {
   "cell_type": "code",
   "execution_count": 9,
   "outputs": [],
   "source": [
    "if answer:\n",
    "    target_new = os.path.join(target_dir, target_fld)\n",
    "    os.mkdir(target_new)"
   ],
   "metadata": {
    "collapsed": false
   }
  },
  {
   "cell_type": "code",
   "execution_count": 26,
   "outputs": [],
   "source": [
    "import shutil\n",
    "\n",
    "for imfile in file_paths:\n",
    "        source_file = os.path.join(input_path, imfile)\n",
    "        destination_file = os.path.join(target_new, imfile)\n",
    "        shutil.copy2(source_file, destination_file)"
   ],
   "metadata": {
    "collapsed": false
   }
  },
  {
   "cell_type": "code",
   "execution_count": null,
   "outputs": [],
   "source": [],
   "metadata": {
    "collapsed": false
   }
  }
 ],
 "metadata": {
  "kernelspec": {
   "display_name": "Python 3",
   "language": "python",
   "name": "python3"
  },
  "language_info": {
   "codemirror_mode": {
    "name": "ipython",
    "version": 2
   },
   "file_extension": ".py",
   "mimetype": "text/x-python",
   "name": "python",
   "nbconvert_exporter": "python",
   "pygments_lexer": "ipython2",
   "version": "2.7.6"
  }
 },
 "nbformat": 4,
 "nbformat_minor": 0
}
