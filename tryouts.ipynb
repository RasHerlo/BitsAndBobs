{
 "cells": [
  {
   "cell_type": "code",
   "execution_count": 35,
   "metadata": {
    "collapsed": true
   },
   "outputs": [
    {
     "name": "stdout",
     "output_type": "stream",
     "text": [
      "Selected input directory: D:/PRAIRIE1 DATA/230712 bPAC WTs/EM0420_TIGRE/reg1_x637_y660n_z1466_lp146_baseline_10min_avr4-001\n",
      "Substring entered: Ch2\n"
     ]
    }
   ],
   "source": [
    "import tkinter as tk\n",
    "from tkinter import filedialog\n",
    "from tkinter import simpledialog\n",
    "\n",
    "root = tk.Tk()\n",
    "root.withdraw()\n",
    "\n",
    "input_path = filedialog.askdirectory(title=\"Select a Directory with imaging files\")\n",
    "input_substr = simpledialog.askstring(\"Input Dialog\", \"Enter your string:\")\n",
    "lowerbound = simpledialog.askinteger(\"Input Dialog\", \"Enter lower-bound index:\")\n",
    "upperbound = simpledialog.askinteger(\"Input Dialog\", \"Enter upper-bound index:\")\n",
    "target_dir = filedialog.askdirectory(title=\"Select target Directory for folder with imaging files\")\n",
    "target_fld = simpledialog.askstring(\"Input Dialog\", \"Enter name of the folder for your images:\")\n",
    "\n",
    "if input_path:\n",
    "    print(\"Selected input directory:\", input_path)\n",
    "if input_substr:\n",
    "    print(\"Substring entered:\", input_substr)\n",
    "\n",
    "root.destroy()  # Close the hidden window"
   ]
  },
  {
   "cell_type": "code",
   "execution_count": 36,
   "outputs": [],
   "source": [
    "import os\n",
    "\n",
    "file_paths = [\n",
    "    filename\n",
    "    for filename in os.listdir(input_path)\n",
    "    if input_substr in filename\n",
    "]"
   ],
   "metadata": {
    "collapsed": false
   }
  },
  {
   "cell_type": "code",
   "execution_count": 37,
   "outputs": [],
   "source": [
    "file_paths = file_paths[lowerbound:upperbound]"
   ],
   "metadata": {
    "collapsed": false
   }
  },
  {
   "cell_type": "code",
   "execution_count": 38,
   "outputs": [
    {
     "data": {
      "text/plain": "(4236,)"
     },
     "execution_count": 38,
     "metadata": {},
     "output_type": "execute_result"
    }
   ],
   "source": [
    "import numpy as np\n",
    "\n",
    "np.shape(file_paths)\n",
    "\n"
   ],
   "metadata": {
    "collapsed": false
   }
  },
  {
   "cell_type": "code",
   "execution_count": 39,
   "outputs": [
    {
     "data": {
      "text/plain": "'reg1_x637_y660n_z1466_lp146_baseline_10min_avr4-001_Cycle00001_Ch2_004237.ome.tif'"
     },
     "execution_count": 39,
     "metadata": {},
     "output_type": "execute_result"
    }
   ],
   "source": [
    "file_paths[-1]"
   ],
   "metadata": {
    "collapsed": false
   }
  },
  {
   "cell_type": "code",
   "execution_count": 40,
   "outputs": [],
   "source": [
    "msg_process = [f\"The transfer is set from {input_path} to {target_fld} in {target_dir}, transferring the subset of files '{lowerbound} to {upperbound}' containing substring '{input_substr}'. The first file transferred will be: {file_paths[0]}, and the last will be {file_paths[-1]}. Do you want to proceed?\"]\n",
    "\n",
    "\n",
    "# answer = tk.messagebox.askyesno(\"Confirmation\", \"Are you sure you want to proceed?\")"
   ],
   "metadata": {
    "collapsed": false
   }
  },
  {
   "cell_type": "code",
   "execution_count": null,
   "outputs": [],
   "source": [
    "print(msg_process)"
   ],
   "metadata": {
    "collapsed": false,
    "pycharm": {
     "is_executing": true
    }
   }
  },
  {
   "cell_type": "code",
   "execution_count": null,
   "outputs": [],
   "source": [
    "answer = tk.messagebox.askyesno(\"Confirmation\", msg_process)"
   ],
   "metadata": {
    "collapsed": false,
    "pycharm": {
     "is_executing": true
    }
   }
  },
  {
   "cell_type": "code",
   "execution_count": null,
   "outputs": [],
   "source": [],
   "metadata": {
    "collapsed": false
   }
  }
 ],
 "metadata": {
  "kernelspec": {
   "display_name": "Python 3",
   "language": "python",
   "name": "python3"
  },
  "language_info": {
   "codemirror_mode": {
    "name": "ipython",
    "version": 2
   },
   "file_extension": ".py",
   "mimetype": "text/x-python",
   "name": "python",
   "nbconvert_exporter": "python",
   "pygments_lexer": "ipython2",
   "version": "2.7.6"
  }
 },
 "nbformat": 4,
 "nbformat_minor": 0
}
